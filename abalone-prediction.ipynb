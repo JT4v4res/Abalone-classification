{
  "nbformat": 4,
  "nbformat_minor": 0,
  "metadata": {
    "colab": {
      "provenance": []
    },
    "kernelspec": {
      "name": "python3",
      "display_name": "Python 3"
    },
    "language_info": {
      "name": "python"
    }
  },
  "cells": [
    {
      "cell_type": "code",
      "execution_count": null,
      "metadata": {
        "id": "3NVLJXla0hpd"
      },
      "outputs": [],
      "source": [
        "from keras.models import Sequential\n",
        "from keras.layers import Dense\n",
        "from sklearn.model_selection import train_test_split\n",
        "import pandas as pd\n",
        "from keras.utils import to_categorical\n",
        "import numpy as np\n",
        "import requests\n",
        "from sklearn.metrics import precision_score"
      ]
    },
    {
      "cell_type": "code",
      "source": [
        "data = pd.read_csv('abalone_dataset.csv')\n",
        "\n",
        "dummies = pd.get_dummies(data['sex'])\n",
        "\n",
        "dummies.columns = ['male', 'female', 'other']\n",
        "\n",
        "data = pd.concat([data, dummies], axis=1)\n",
        "\n",
        "data = data.drop('sex', axis=1)\n",
        "data = data.drop('male', axis=1)\n",
        "data = data.drop('female', axis=1)\n",
        "\n",
        "y = data.type\n",
        "X = data.drop(['type'], axis=1)"
      ],
      "metadata": {
        "id": "XDhn2nPg0mb7",
        "colab": {
          "base_uri": "https://localhost:8080/",
          "height": 245
        },
        "outputId": "050ca3ea-1f74-46fa-b90a-706b4de428be"
      },
      "execution_count": null,
      "outputs": [
        {
          "output_type": "error",
          "ename": "NameError",
          "evalue": "ignored",
          "traceback": [
            "\u001b[0;31m---------------------------------------------------------------------------\u001b[0m",
            "\u001b[0;31mNameError\u001b[0m                                 Traceback (most recent call last)",
            "\u001b[0;32m<ipython-input-2-758bae000aaa>\u001b[0m in \u001b[0;36m<cell line: 1>\u001b[0;34m()\u001b[0m\n\u001b[0;32m----> 1\u001b[0;31m \u001b[0mdata\u001b[0m \u001b[0;34m=\u001b[0m \u001b[0mpd\u001b[0m\u001b[0;34m.\u001b[0m\u001b[0mread_csv\u001b[0m\u001b[0;34m(\u001b[0m\u001b[0;34m'abalone_dataset.csv'\u001b[0m\u001b[0;34m)\u001b[0m\u001b[0;34m\u001b[0m\u001b[0;34m\u001b[0m\u001b[0m\n\u001b[0m\u001b[1;32m      2\u001b[0m \u001b[0;34m\u001b[0m\u001b[0m\n\u001b[1;32m      3\u001b[0m \u001b[0mdummies\u001b[0m \u001b[0;34m=\u001b[0m \u001b[0mpd\u001b[0m\u001b[0;34m.\u001b[0m\u001b[0mget_dummies\u001b[0m\u001b[0;34m(\u001b[0m\u001b[0mdata\u001b[0m\u001b[0;34m[\u001b[0m\u001b[0;34m'sex'\u001b[0m\u001b[0;34m]\u001b[0m\u001b[0;34m)\u001b[0m\u001b[0;34m\u001b[0m\u001b[0;34m\u001b[0m\u001b[0m\n\u001b[1;32m      4\u001b[0m \u001b[0;34m\u001b[0m\u001b[0m\n\u001b[1;32m      5\u001b[0m \u001b[0mdummies\u001b[0m\u001b[0;34m.\u001b[0m\u001b[0mcolumns\u001b[0m \u001b[0;34m=\u001b[0m \u001b[0;34m[\u001b[0m\u001b[0;34m'male'\u001b[0m\u001b[0;34m,\u001b[0m \u001b[0;34m'female'\u001b[0m\u001b[0;34m,\u001b[0m \u001b[0;34m'other'\u001b[0m\u001b[0;34m]\u001b[0m\u001b[0;34m\u001b[0m\u001b[0;34m\u001b[0m\u001b[0m\n",
            "\u001b[0;31mNameError\u001b[0m: name 'pd' is not defined"
          ]
        }
      ]
    },
    {
      "cell_type": "code",
      "source": [
        "model = Sequential()\n",
        "model.add(Dense(1024, input_dim=8, activation='relu'))\n",
        "model.add(Dense(512, activation='relu'))\n",
        "model.add(Dense(256, activation='relu'))\n",
        "model.add(Dense(128, activation='relu'))\n",
        "model.add(Dense(64, activation='relu'))\n",
        "model.add(Dense(32, activation='relu'))\n",
        "model.add(Dense(16, activation='relu'))\n",
        "model.add(Dense(8, activation='relu'))\n",
        "model.add(Dense(4, activation='relu'))\n",
        "model.add(Dense(2, activation='relu'))\n",
        "model.add(Dense(1, activation='sigmoid'))"
      ],
      "metadata": {
        "id": "zHZXeQkQ0_B6"
      },
      "execution_count": null,
      "outputs": []
    },
    {
      "cell_type": "code",
      "source": [
        "model.compile(loss='binary_crossentropy', optimizer='adam', metrics=['accuracy'])\n",
        "y_train = y.replace(3, 2)-1\n",
        "model.fit(X, y_train, epochs=30, batch_size=30)"
      ],
      "metadata": {
        "colab": {
          "base_uri": "https://localhost:8080/"
        },
        "id": "UbYbyzZ01BAS",
        "outputId": "02138e65-7f86-4723-a01c-0279a7e96e7d"
      },
      "execution_count": null,
      "outputs": [
        {
          "output_type": "stream",
          "name": "stdout",
          "text": [
            "Epoch 1/30\n",
            "105/105 [==============================] - 4s 15ms/step - loss: 0.5076 - accuracy: 0.8020\n",
            "Epoch 2/30\n",
            "105/105 [==============================] - 2s 17ms/step - loss: 0.4130 - accuracy: 0.8158\n",
            "Epoch 3/30\n",
            "105/105 [==============================] - 3s 24ms/step - loss: 0.3958 - accuracy: 0.8282\n",
            "Epoch 4/30\n",
            "105/105 [==============================] - 2s 15ms/step - loss: 0.3912 - accuracy: 0.8263\n",
            "Epoch 5/30\n",
            "105/105 [==============================] - 2s 16ms/step - loss: 0.3873 - accuracy: 0.8289\n",
            "Epoch 6/30\n",
            "105/105 [==============================] - 2s 18ms/step - loss: 0.3812 - accuracy: 0.8285\n",
            "Epoch 7/30\n",
            "105/105 [==============================] - 2s 15ms/step - loss: 0.3806 - accuracy: 0.8295\n",
            "Epoch 8/30\n",
            "105/105 [==============================] - 2s 15ms/step - loss: 0.3745 - accuracy: 0.8346\n",
            "Epoch 9/30\n",
            "105/105 [==============================] - 2s 14ms/step - loss: 0.3675 - accuracy: 0.8368\n",
            "Epoch 10/30\n",
            "105/105 [==============================] - 3s 25ms/step - loss: 0.3665 - accuracy: 0.8359\n",
            "Epoch 11/30\n",
            "105/105 [==============================] - 2s 17ms/step - loss: 0.3670 - accuracy: 0.8346\n",
            "Epoch 12/30\n",
            "105/105 [==============================] - 2s 15ms/step - loss: 0.3641 - accuracy: 0.8349\n",
            "Epoch 13/30\n",
            "105/105 [==============================] - 2s 17ms/step - loss: 0.3614 - accuracy: 0.8368\n",
            "Epoch 14/30\n",
            "105/105 [==============================] - 2s 15ms/step - loss: 0.3644 - accuracy: 0.8359\n",
            "Epoch 15/30\n",
            "105/105 [==============================] - 2s 14ms/step - loss: 0.3575 - accuracy: 0.8420\n",
            "Epoch 16/30\n",
            "105/105 [==============================] - 1s 14ms/step - loss: 0.3647 - accuracy: 0.8394\n",
            "Epoch 17/30\n",
            "105/105 [==============================] - 2s 19ms/step - loss: 0.3575 - accuracy: 0.8397\n",
            "Epoch 18/30\n",
            "105/105 [==============================] - 2s 23ms/step - loss: 0.3638 - accuracy: 0.8391\n",
            "Epoch 19/30\n",
            "105/105 [==============================] - 2s 15ms/step - loss: 0.3575 - accuracy: 0.8391\n",
            "Epoch 20/30\n",
            "105/105 [==============================] - 2s 22ms/step - loss: 0.3555 - accuracy: 0.8391\n",
            "Epoch 21/30\n",
            "105/105 [==============================] - 2s 21ms/step - loss: 0.3553 - accuracy: 0.8410\n",
            "Epoch 22/30\n",
            "105/105 [==============================] - 1s 14ms/step - loss: 0.3562 - accuracy: 0.8432\n",
            "Epoch 23/30\n",
            "105/105 [==============================] - 1s 14ms/step - loss: 0.3507 - accuracy: 0.8455\n",
            "Epoch 24/30\n",
            "105/105 [==============================] - 3s 26ms/step - loss: 0.3563 - accuracy: 0.8461\n",
            "Epoch 25/30\n",
            "105/105 [==============================] - 3s 29ms/step - loss: 0.3495 - accuracy: 0.8448\n",
            "Epoch 26/30\n",
            "105/105 [==============================] - 2s 17ms/step - loss: 0.3504 - accuracy: 0.8474\n",
            "Epoch 27/30\n",
            "105/105 [==============================] - 2s 16ms/step - loss: 0.3531 - accuracy: 0.8413\n",
            "Epoch 28/30\n",
            "105/105 [==============================] - 2s 15ms/step - loss: 0.3512 - accuracy: 0.8461\n",
            "Epoch 29/30\n",
            "105/105 [==============================] - 2s 17ms/step - loss: 0.3474 - accuracy: 0.8509\n",
            "Epoch 30/30\n",
            "105/105 [==============================] - 2s 18ms/step - loss: 0.3517 - accuracy: 0.8528\n"
          ]
        },
        {
          "output_type": "execute_result",
          "data": {
            "text/plain": [
              "<keras.callbacks.History at 0x79f8262c92a0>"
            ]
          },
          "metadata": {},
          "execution_count": 12
        }
      ]
    },
    {
      "cell_type": "code",
      "source": [
        "model2 = Sequential()\n",
        "model2.add(Dense(1024, input_dim=8, activation='relu'))\n",
        "model2.add(Dense(512, activation='relu'))\n",
        "model2.add(Dense(256, activation='relu'))\n",
        "model2.add(Dense(128, activation='relu'))\n",
        "model2.add(Dense(64, activation='relu'))\n",
        "model2.add(Dense(32, activation='relu'))\n",
        "model2.add(Dense(16, activation='relu'))\n",
        "model2.add(Dense(8, activation='relu'))\n",
        "model2.add(Dense(4, activation='relu'))\n",
        "model2.add(Dense(3, activation='softmax'))"
      ],
      "metadata": {
        "id": "vumqjtbt1JZ6"
      },
      "execution_count": null,
      "outputs": []
    },
    {
      "cell_type": "code",
      "source": [
        "y2 = data.type-1\n",
        "X2 = data.drop(['type'], axis=1)"
      ],
      "metadata": {
        "id": "dRLBFyynB0Ta"
      },
      "execution_count": null,
      "outputs": []
    },
    {
      "cell_type": "code",
      "source": [
        "model2.compile(loss='sparse_categorical_crossentropy', optimizer='adam', metrics=['accuracy'])\n",
        "model2.fit(X2, y2, epochs=30, batch_size=30)"
      ],
      "metadata": {
        "colab": {
          "base_uri": "https://localhost:8080/"
        },
        "id": "xZogLK9M1NkC",
        "outputId": "24b4881d-38de-4c6e-f73c-43bb1fe8ed5f"
      },
      "execution_count": null,
      "outputs": [
        {
          "output_type": "stream",
          "name": "stdout",
          "text": [
            "Epoch 1/30\n",
            "105/105 [==============================] - 4s 23ms/step - loss: 0.7341 - accuracy: 0.6580\n",
            "Epoch 2/30\n",
            "105/105 [==============================] - 2s 21ms/step - loss: 0.7224 - accuracy: 0.6648\n",
            "Epoch 3/30\n",
            "105/105 [==============================] - 1s 14ms/step - loss: 0.7230 - accuracy: 0.6724\n",
            "Epoch 4/30\n",
            "105/105 [==============================] - 2s 14ms/step - loss: 0.7348 - accuracy: 0.6545\n",
            "Epoch 5/30\n",
            "105/105 [==============================] - 1s 14ms/step - loss: 0.7352 - accuracy: 0.6485\n",
            "Epoch 6/30\n",
            "105/105 [==============================] - 2s 19ms/step - loss: 0.7187 - accuracy: 0.6737\n",
            "Epoch 7/30\n",
            "105/105 [==============================] - 2s 21ms/step - loss: 0.7281 - accuracy: 0.6564\n",
            "Epoch 8/30\n",
            "105/105 [==============================] - 2s 18ms/step - loss: 0.7231 - accuracy: 0.6670\n",
            "Epoch 9/30\n",
            "105/105 [==============================] - 2s 22ms/step - loss: 0.7226 - accuracy: 0.6667\n",
            "Epoch 10/30\n",
            "105/105 [==============================] - 1s 14ms/step - loss: 0.7208 - accuracy: 0.6667\n",
            "Epoch 11/30\n",
            "105/105 [==============================] - 1s 14ms/step - loss: 0.7188 - accuracy: 0.6577\n",
            "Epoch 12/30\n",
            "105/105 [==============================] - 2s 20ms/step - loss: 0.7252 - accuracy: 0.6609\n",
            "Epoch 13/30\n",
            "105/105 [==============================] - 2s 16ms/step - loss: 0.7232 - accuracy: 0.6606\n",
            "Epoch 14/30\n",
            "105/105 [==============================] - 2s 19ms/step - loss: 0.7203 - accuracy: 0.6683\n",
            "Epoch 15/30\n",
            "105/105 [==============================] - 3s 28ms/step - loss: 0.7269 - accuracy: 0.6571\n",
            "Epoch 16/30\n",
            "105/105 [==============================] - 3s 24ms/step - loss: 0.7251 - accuracy: 0.6593\n",
            "Epoch 17/30\n",
            "105/105 [==============================] - 2s 16ms/step - loss: 0.7229 - accuracy: 0.6648\n",
            "Epoch 18/30\n",
            "105/105 [==============================] - 2s 16ms/step - loss: 0.7118 - accuracy: 0.6660\n",
            "Epoch 19/30\n",
            "105/105 [==============================] - 1s 14ms/step - loss: 0.7230 - accuracy: 0.6644\n",
            "Epoch 20/30\n",
            "105/105 [==============================] - 2s 15ms/step - loss: 0.7185 - accuracy: 0.6648\n",
            "Epoch 21/30\n",
            "105/105 [==============================] - 2s 15ms/step - loss: 0.7157 - accuracy: 0.6692\n",
            "Epoch 22/30\n",
            "105/105 [==============================] - 2s 21ms/step - loss: 0.7220 - accuracy: 0.6686\n",
            "Epoch 23/30\n",
            "105/105 [==============================] - 2s 20ms/step - loss: 0.7214 - accuracy: 0.6596\n",
            "Epoch 24/30\n",
            "105/105 [==============================] - 1s 14ms/step - loss: 0.7130 - accuracy: 0.6705\n",
            "Epoch 25/30\n",
            "105/105 [==============================] - 1s 14ms/step - loss: 0.7161 - accuracy: 0.6673\n",
            "Epoch 26/30\n",
            "105/105 [==============================] - 2s 14ms/step - loss: 0.7158 - accuracy: 0.6670\n",
            "Epoch 27/30\n",
            "105/105 [==============================] - 2s 14ms/step - loss: 0.7138 - accuracy: 0.6628\n",
            "Epoch 28/30\n",
            "105/105 [==============================] - 1s 14ms/step - loss: 0.7170 - accuracy: 0.6718\n",
            "Epoch 29/30\n",
            "105/105 [==============================] - 1s 14ms/step - loss: 0.7243 - accuracy: 0.6635\n",
            "Epoch 30/30\n",
            "105/105 [==============================] - 2s 21ms/step - loss: 0.7129 - accuracy: 0.6753\n"
          ]
        },
        {
          "output_type": "execute_result",
          "data": {
            "text/plain": [
              "<keras.callbacks.History at 0x79f825b5af20>"
            ]
          },
          "metadata": {},
          "execution_count": 23
        }
      ]
    },
    {
      "cell_type": "code",
      "source": [
        "model3 = Sequential()\n",
        "model3.add(Dense(1024, input_dim=8, activation='relu'))\n",
        "model3.add(Dense(512, activation='relu'))\n",
        "model3.add(Dense(256, activation='relu'))\n",
        "model3.add(Dense(128, activation='relu'))\n",
        "model3.add(Dense(64, activation='relu'))\n",
        "model3.add(Dense(32, activation='relu'))\n",
        "model3.add(Dense(16, activation='relu'))\n",
        "model3.add(Dense(8, activation='relu'))\n",
        "model3.add(Dense(4, activation='relu'))\n",
        "model3.add(Dense(2, activation='relu'))\n",
        "model3.add(Dense(1, activation='sigmoid'))"
      ],
      "metadata": {
        "id": "w1HBVU7zCQMQ"
      },
      "execution_count": null,
      "outputs": []
    },
    {
      "cell_type": "code",
      "source": [
        "mask = data['type'] != 1\n",
        "data_23 = data[mask]\n",
        "\n",
        "y_train_23 = data_23.type-2\n",
        "X_train_23 = data_23.drop(['type'], axis=1)"
      ],
      "metadata": {
        "id": "68nInTd81F7K"
      },
      "execution_count": null,
      "outputs": []
    },
    {
      "cell_type": "code",
      "source": [
        "model3.compile(loss='binary_crossentropy', optimizer='adam', metrics=['accuracy'])\n",
        "model3.fit(X_train_23, y_train_23)"
      ],
      "metadata": {
        "colab": {
          "base_uri": "https://localhost:8080/"
        },
        "id": "__alc_viCYhQ",
        "outputId": "83cfda17-f7cc-4b0d-d11e-36155668cd6e"
      },
      "execution_count": null,
      "outputs": [
        {
          "output_type": "stream",
          "name": "stdout",
          "text": [
            "65/65 [==============================] - 3s 17ms/step - loss: 0.6929 - accuracy: 0.5117\n"
          ]
        },
        {
          "output_type": "execute_result",
          "data": {
            "text/plain": [
              "<keras.callbacks.History at 0x79f82b5af190>"
            ]
          },
          "metadata": {},
          "execution_count": 59
        }
      ]
    },
    {
      "cell_type": "code",
      "source": [
        "def prediction(dataset):\n",
        "    y_pred1 =  (model.predict(dataset) > 0.3).astype(int)\n",
        "    y_pred = []\n",
        "    for i in range(len(y_pred1)):\n",
        "        if y_pred1[i] == 0:\n",
        "            y_pred.append((y_pred1[i][0])+1)\n",
        "        else:\n",
        "            value = (dataset.iloc[i].values)[np.newaxis, :]\n",
        "            prediction = model2.predict(value)\n",
        "            prediction = np.argmax(prediction[0])+1\n",
        "            y_pred.append(prediction)\n",
        "\n",
        "\n",
        "    for i in range(len(y_pred)):\n",
        "        if y_pred1[i] == 1:\n",
        "            y_pred.append((y_pred1[i][0]))\n",
        "        else:\n",
        "            value = (dataset.iloc[i].values)[np.newaxis, :]\n",
        "            prediction = (model3.predict(value) > 0.5).astype(int)\n",
        "            prediction = np.argmax(prediction[0])+2\n",
        "            y_pred.append(prediction)\n",
        "    return y_pred"
      ],
      "metadata": {
        "id": "69Kthps-1Otq"
      },
      "execution_count": null,
      "outputs": []
    },
    {
      "cell_type": "code",
      "source": [
        "data_app = pd.read_csv('abalone_app.csv')\n",
        "dummies = pd.get_dummies(data_app['sex'])\n",
        "\n",
        "dummies.columns = ['male', 'female', 'other']\n",
        "\n",
        "data_app = pd.concat([data_app, dummies], axis=1)\n",
        "\n",
        "data_app = data_app.drop('sex', axis=1)\n",
        "data_app = data_app.drop('male', axis=1)\n",
        "data_app = data_app.drop('female', axis=1)\n",
        "\n",
        "y_pred = prediction(data_app)\n",
        "\n"
      ],
      "metadata": {
        "id": "KRs53COn1QKS"
      },
      "execution_count": null,
      "outputs": []
    },
    {
      "cell_type": "code",
      "source": [
        "# Enviando previsões realizadas com o modelo para o servidor\n",
        "URL = \"https://aydanomachado.com/mlclass/03_Validation.php\"\n",
        "\n",
        "#TODO Substituir pela sua chave aqui\n",
        "DEV_KEY = \"AiDANO\"\n",
        "\n",
        "# json para ser enviado para o servidor\n",
        "data = {'dev_key':DEV_KEY,\n",
        "        'predictions':pd.Series(y_pred).to_json(orient='values')}\n",
        "\n",
        "# Enviando requisição e salvando o objeto resposta\n",
        "r = requests.post(url = URL, data = data)\n",
        "\n",
        "# Extraindo e imprimindo o texto da resposta\n",
        "pastebin_url = r.text\n",
        "print(\" - Resposta do servidor:\\n\", r.text, \"\\n\")"
      ],
      "metadata": {
        "colab": {
          "base_uri": "https://localhost:8080/"
        },
        "id": "PEU0TMJ72L-5",
        "outputId": "f0f96b77-45b4-4be2-cd90-3961be29b822"
      },
      "execution_count": null,
      "outputs": [
        {
          "output_type": "stream",
          "name": "stdout",
          "text": [
            " - Resposta do servidor:\n",
            " {\"status\":\"success\",\"dev_key\":\"AiDANO\",\"accuracy\":0.6669856459330143,\"old_accuracy\":0.64593301435407} \n",
            "\n"
          ]
        }
      ]
    }
  ]
}